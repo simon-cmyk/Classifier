{
 "cells": [
  {
   "attachments": {},
   "cell_type": "markdown",
   "metadata": {},
   "source": [
    "# Code for the implementation of task MNist"
   ]
  },
  {
   "attachments": {},
   "cell_type": "markdown",
   "metadata": {},
   "source": [
    "### importing libraries"
   ]
  },
  {
   "cell_type": "code",
   "execution_count": null,
   "metadata": {},
   "outputs": [],
   "source": [
    "import numpy as np\n",
    "from sklearn import metrics\n",
    "import matplotlib.pyplot as plt\n",
    "from scipy.spatial.distance import cdist\n",
    "from keras.datasets import mnist"
   ]
  },
  {
   "cell_type": "code",
   "execution_count": null,
   "metadata": {},
   "outputs": [],
   "source": [
    "class Dataset:\n",
    "    def __init__(self, train_X, train_y, test_X, test_y):\n",
    "        data = {\"training\": {\"targets\": [], \"features\":[]}, \"testing\": {\"targets\": [], \"features\":[]}}\n",
    "                    \n",
    "        data[\"training\"][\"features\"] = train_X\n",
    "        data[\"training\"][\"targets\"] = train_y\n",
    "        data[\"testing\"][\"features\"] = test_X\n",
    "        data[\"testing\"][\"targets\"]  = test_y\n",
    "        \n",
    "        self.data = data\n",
    "        self.DESCR = \"MNISK dataset\"\n",
    "        self.n_training = 60000\n",
    "        self.n_testing = 10000\n",
    "        self.cluster_size = 1000\n",
    "        self.n_clusters = self.n_training//self.cluster_size\n",
    "        self.classes_names = ['0','1','2','3','4','5','6','7','8','9']\n"
   ]
  },
  {
   "cell_type": "code",
   "execution_count": null,
   "metadata": {},
   "outputs": [],
   "source": [
    "(train_X, train_y), (test_X, test_y) = mnist.load_data()\n",
    "train_X = np.reshape(train_X, (train_X.shape[0], train_X.shape[1] * train_X.shape[2]))\n",
    "test_X = np.reshape(test_X, (test_X.shape[0], test_X.shape[1] * test_X.shape[2]))\n",
    "MNISK_Dataset = Dataset(train_X, train_y, test_X, test_y)\n"
   ]
  },
  {
   "cell_type": "code",
   "execution_count": null,
   "metadata": {},
   "outputs": [],
   "source": [
    "def NN_predict(images_predict, n_clusters, cluster_size, train_set):\n",
    "    predicted = []\n",
    "    for image in images_predict:\n",
    "        min_dict = {\"indices\": [], \"values\": []}\n",
    "        for i in range(n_clusters):\n",
    "            reduced_test_set = train_set[\"features\"][i*cluster_size:(i+1)*cluster_size]\n",
    "            distances = np.ravel(cdist([image], reduced_test_set, metric='euclidean'))\n",
    "            min_cluster_index = np.argmin(distances)\n",
    "            min_global_index = i*cluster_size+min_cluster_index\n",
    "            min_dict[\"indices\"].append(min_global_index)\n",
    "            min_dict[\"values\"].append(distances[min_cluster_index])\n",
    "        min_dict_NN_index = np.argmin(min_dict[\"values\"])\n",
    "        NN_global_index = min_dict[\"indices\"][min_dict_NN_index]\n",
    "        predicted.append(train_set[\"targets\"][NN_global_index])\n",
    "    return predicted"
   ]
  },
  {
   "attachments": {},
   "cell_type": "markdown",
   "metadata": {},
   "source": [
    "## Confusion matrix for test set"
   ]
  },
  {
   "cell_type": "code",
   "execution_count": null,
   "metadata": {},
   "outputs": [],
   "source": [
    "def PlotConfusionMatrix(matrix):\n",
    "    fig, ax = plt.subplots(figsize=(16, 8))\n",
    "    metrics.ConfusionMatrixDisplay(confusion_matrix=matrix, \n",
    "                                   display_labels=MNISK_Dataset.classes_names,\n",
    "                                   ).plot(cmap=\"Blues\", ax=ax)\n",
    "    plt.title(\"NN classifier test-set\")\n",
    "    plt.tight_layout()\n",
    "    plt.show()"
   ]
  },
  {
   "cell_type": "code",
   "execution_count": null,
   "metadata": {},
   "outputs": [],
   "source": [
    "def conf_matrix_test(MNISK_Dataset: Dataset):\n",
    "    n_classes = 10\n",
    "    data = MNISK_Dataset.data\n",
    "    conf_matrix = np.zeros((n_classes, n_classes)).astype(int)\n",
    "    testing_data = data[\"testing\"][\"features\"][0:500]\n",
    "    prediction = NN_predict(testing_data, MNISK_Dataset.n_clusters, MNISK_Dataset.cluster_size, data[\"training\"])\n",
    "    n_misclassified = 0\n",
    "    misclassified_examples = []\n",
    "    correctly_classified_examples = []\n",
    "    for i in range(len(prediction)):\n",
    "        target = data[\"testing\"][\"targets\"][i]\n",
    "        pred = prediction[i]\n",
    "        conf_matrix[target, pred] += 1\n",
    "        # extracting four examples of misclassified and four examples of correctly classified images for later \n",
    "        if target != pred and len(misclassified_examples) < 4:\n",
    "            n_misclassified += 1\n",
    "            misclassified_examples.append([testing_data[i], pred, target])\n",
    "        elif target == pred and len(correctly_classified_examples) < 4:\n",
    "            correctly_classified_examples.append([testing_data[i], pred, target])\n",
    "\n",
    "\n",
    "    error_rate = n_misclassified / len(testing_data)\n",
    "    return conf_matrix, error_rate, misclassified_examples, correctly_classified_examples "
   ]
  },
  {
   "cell_type": "code",
   "execution_count": null,
   "metadata": {},
   "outputs": [],
   "source": [
    "confusion_matrix, error_rate, misclassified_examples, correctly_classified_examples = conf_matrix_test(MNISK_Dataset)"
   ]
  },
  {
   "cell_type": "code",
   "execution_count": null,
   "metadata": {},
   "outputs": [],
   "source": [
    "print(\"Error rate: \" + str(error_rate))\n",
    "PlotConfusionMatrix(confusion_matrix)"
   ]
  },
  {
   "attachments": {},
   "cell_type": "markdown",
   "metadata": {},
   "source": [
    "## 1b) Plot some examples"
   ]
  },
  {
   "cell_type": "code",
   "execution_count": null,
   "metadata": {},
   "outputs": [],
   "source": [
    "def PlotExamples(examples):\n",
    "    fig, axs = plt.subplots(2, 2, figsize=(10, 10))\n",
    "\n",
    "    for i, (image, predicted, target) in enumerate(examples):\n",
    "        ax = axs[i//2, i%2]\n",
    "        ax.set_title(f\"Classified as {predicted}, target is {target}\")\n",
    "        ax.imshow(np.reshape(image, (28, 28)), cmap='gray')\n",
    "\n",
    "    fig.subplots_adjust(hspace=0.4)\n",
    "\n",
    "    plt.show()"
   ]
  },
  {
   "cell_type": "code",
   "execution_count": null,
   "metadata": {},
   "outputs": [],
   "source": [
    "PlotExamples(misclassified_examples)\n"
   ]
  },
  {
   "cell_type": "code",
   "execution_count": null,
   "metadata": {},
   "outputs": [],
   "source": [
    "PlotExamples(correctly_classified_examples)"
   ]
  },
  {
   "attachments": {},
   "cell_type": "markdown",
   "metadata": {},
   "source": [
    "There is not too much to say about the correctly classified examples. They all seem to be pretty easy to handle for the classifier. As for the misclassified examples, there were some somewhat strange results. As humans, it is hard to understand why the image with the number eight was classified as a five, although one can see the contour of parts of a five if one uses ones imagination. It is also a little bit hard to see how the image with the number three can be classified as a five, but also here it is possible to see how the classifier got it wrong. One can see something resembling the lower part of a five, and it is not a very pretty number three. The two other misclassification examples makes more sense in our opinion, even though it is easy for us as humans to see what they should be.  "
   ]
  },
  {
   "cell_type": "code",
   "execution_count": null,
   "metadata": {},
   "outputs": [],
   "source": []
  }
 ],
 "metadata": {
  "kernelspec": {
   "display_name": "Python 3",
   "language": "python",
   "name": "python3"
  },
  "language_info": {
   "codemirror_mode": {
    "name": "ipython",
    "version": 3
   },
   "file_extension": ".py",
   "mimetype": "text/x-python",
   "name": "python",
   "nbconvert_exporter": "python",
   "pygments_lexer": "ipython3",
   "version": "3.10.6"
  },
  "orig_nbformat": 4
 },
 "nbformat": 4,
 "nbformat_minor": 2
}
